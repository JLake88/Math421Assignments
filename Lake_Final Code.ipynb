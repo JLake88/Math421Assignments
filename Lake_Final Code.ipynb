{
 "cells": [
  {
   "cell_type": "code",
   "execution_count": 1,
   "metadata": {},
   "outputs": [
    {
     "name": "stderr",
     "output_type": "stream",
     "text": [
      "Loading required package: lattice\n",
      "Rattle: A free graphical interface for data science with R.\n",
      "Version 5.2.0 Copyright (c) 2006-2018 Togaware Pty Ltd.\n",
      "Type 'rattle()' to shake, rattle, and roll your data.\n",
      "\n",
      "Attaching package: 'rattle'\n",
      "\n",
      "The following object is masked from 'package:ranger':\n",
      "\n",
      "    importance\n",
      "\n",
      "Loading required package: Matrix\n",
      "Loading required package: foreach\n",
      "Loaded glmnet 2.0-16\n",
      "\n"
     ]
    }
   ],
   "source": [
    "knitr::opts_chunk$set(echo = TRUE)\n",
    "library(ggplot2)\n",
    "library(caret)\n",
    "library(ranger)\n",
    "library(lattice)\n",
    "library(rpart)\n",
    "library(rattle)\n",
    "library(glmnet)"
   ]
  },
  {
   "cell_type": "code",
   "execution_count": 2,
   "metadata": {},
   "outputs": [
    {
     "name": "stderr",
     "output_type": "stream",
     "text": [
      "Warning message in file(file, \"rt\"):\n",
      "\"cannot open file 'bank-full.csv': No such file or directory\""
     ]
    },
    {
     "ename": "ERROR",
     "evalue": "Error in file(file, \"rt\"): cannot open the connection\n",
     "execution_count": 2,
     "output_type": "error",
     "traceback": [
      "Error in file(file, \"rt\"): cannot open the connection\nTraceback:\n",
      "1. read.csv(\"bank-full.csv\")",
      "2. read.table(file = file, header = header, sep = sep, quote = quote, \n .     dec = dec, fill = fill, comment.char = comment.char, ...)",
      "3. file(file, \"rt\")"
     ]
    }
   ],
   "source": [
    "df <- read.csv(\"bank-full.csv\")\n",
    "\n",
    "names(df) <- c(\"age\", \"jobClass\", \"maritalStatus\", \"educationLevel\", \"creditDefault\", \"defaultBalance\", \"housingLoan\", \"personalLoan\", \"communicationType\", \"lastDayContacted\", \"lastMonthContact\", \"lastContactDuration\", \"totalContacts\", \"daysLastContact\", \"previousContacts\", \"previousOutcome\", \"target\")"
   ]
  },
  {
   "cell_type": "code",
   "execution_count": 3,
   "metadata": {},
   "outputs": [
    {
     "ename": "ERROR",
     "evalue": "Error: You're passing a function as global data.\nHave you misspelled the `data` argument in `ggplot()`\n",
     "execution_count": 3,
     "output_type": "error",
     "traceback": [
      "Error: You're passing a function as global data.\nHave you misspelled the `data` argument in `ggplot()`\nTraceback:\n",
      "1. ggplot(df, aes(df$target))",
      "2. ggplot.function(df, aes(df$target))",
      "3. stop(\"You're passing a function as global data.\\nHave you misspelled the `data` argument in `ggplot()`\", \n .     call. = FALSE)"
     ]
    }
   ],
   "source": [
    "tr <- ggplot(df, aes(df$target)) + geom_bar() + ggtitle(\"Target Variable Distribution\")\n",
    "a <- ggplot(df, aes(df$age, color = df$target)) + geom_density() + ggtitle(\"Density Plot: Age by Campaign Success\")\n",
    "b <- ggplot(df, aes(df$target)) + geom_bar(aes(fill = df$jobClass)) + ggtitle(\"Campaign Success by Job\")\n",
    "c <- ggplot(df, aes(df$target)) + geom_bar(aes(fill = df$maritalStatus)) + ggtitle(\"Campaign Success by Marital Status\")\n",
    "d <- ggplot(df, aes(df$target)) + geom_bar(aes(fill = df$educationLevel)) + ggtitle(\"Campaign Success by Education Level\")\n",
    "e <- ggplot(df, aes(df$target)) + geom_bar(aes(fill = df$creditDefault)) + ggtitle(\"Campaign Success by Credit Default\")\n",
    "f <- ggplot(df, aes(df$defaultBalance, color = df$target)) + geom_density() + ggtitle(\"Density Plot: Default Balance by Campaign Success\")\n",
    "g <- ggplot(df, aes(df$target)) + geom_bar(aes(fill = df$housingLoan)) + ggtitle(\"Campaign Success by Housing Loan Status\")\n",
    "h <- ggplot(df, aes(df$target)) + geom_bar(aes(fill = df$personalLoan)) + ggtitle(\"Campaign Success by Personal Loan Status\")\n",
    "i <- ggplot(df, aes(df$target)) + geom_bar(aes(fill = df$communicationType)) + ggtitle(\"Campaign Success by Preferred Communication Method\")\n",
    "j <- ggplot(df, aes(df$lastContactDuration, color = df$target)) + geom_density() + ggtitle(\"Density Plot: Campaign Success by Last Contact Duration\")\n",
    "k <- ggplot(df, aes(df$target)) + geom_bar(aes(fill = df$previousOutcome)) + ggtitle(\"Campaign Success by Previous Campaign Success\")\n",
    "l <- ggplot(df, aes(df$totalContacts, color = df$target)) + geom_density() + ggtitle(\"Density Ploy: Total Contacts by Previous Campaign Success\")\n",
    "m <- ggplot(df, aes(df$previousContacts, color = df$target)) + geom_density() + ggtitle(\"Density Plot: Previous Contacts by Campaign Success\")\n",
    "n <- ggplot(df, aes(x=df$defaultBalance, y=df$lastContactDuration, color = df$target)) + geom_point() + ggtitle(\"Default Balance by Last Contact Duration\")\n",
    "o <- ggplot(df, aes(x=df$age, y=df$lastContactDuration, color = df$target)) + geom_point() + ggtitle(\"Age by LastContact Duration\")\n",
    "p <- ggplot(df, aes(x=df$creditDefault, y=df$defaultBalance)) + stat_summary(mapping = aes(fill = df$target), fun.y =\"mean\", geom = \"bar\") + ggtitle(\"Average Credit Balance By Default Status\")\n",
    "q <- ggplot(df, aes(x=df$target, y=df$lastContactDuration)) + stat_summary(fun.y =\"mean\", geom = \"bar\") + ggtitle(\"Average Contact Duration by Campaign Success\")\n",
    "r <- ggplot(df, aes(df$housingLoan)) + geom_bar(aes(fill = df$personalLoan)) + ggtitle(\"Housing Loan by Personal Loan\")"
   ]
  },
  {
   "cell_type": "code",
   "execution_count": 4,
   "metadata": {},
   "outputs": [
    {
     "ename": "ERROR",
     "evalue": "Error in cc[sample(c(TRUE, NA), prob = c(0.95, 0.05), size = length(cc), : object of type 'symbol' is not subsettable\n",
     "execution_count": 4,
     "output_type": "error",
     "traceback": [
      "Error in cc[sample(c(TRUE, NA), prob = c(0.95, 0.05), size = length(cc), : object of type 'symbol' is not subsettable\nTraceback:\n",
      "1. as.data.frame(lapply(df, function(cc) cc[sample(c(TRUE, NA), \n .     prob = c(0.95, 0.05), size = length(cc), replace = TRUE)]))",
      "2. lapply(df, function(cc) cc[sample(c(TRUE, NA), prob = c(0.95, \n .     0.05), size = length(cc), replace = TRUE)])",
      "3. FUN(X[[i]], ...)"
     ]
    }
   ],
   "source": [
    "df <- as.data.frame(lapply(df, function(cc) cc[ sample(c(TRUE, NA), prob = c(0.95, 0.05), size = length(cc), replace = TRUE) ]))\n",
    "\n",
    "'Method 1'\n",
    "repnum = function(x){\n",
    "  for(i in 1:ncol(x)){\n",
    "    if(is.numeric(x[,i])){\n",
    "     x[is.na(x[,i]), i] <- mean(x[,i], na.rm = TRUE)\n",
    "    }\n",
    "  }\n",
    "  return(x)\n",
    "}\n",
    "df = repnum(df)\n",
    "\n",
    "'Method 2'\n",
    "repcat = function(x){\n",
    "  for(i in 1:ncol(x)){\n",
    "    if(is.factor(x[,i])){\n",
    "     x[,i][is.na(x[,i])] = levels(x[,i])[which.max(table(x[,i]))]\n",
    "    }\n",
    "  }\n",
    "  return(x)\n",
    "}\n",
    "df = repcat(df)\n",
    "\n",
    "'Method 3'\n",
    "df <- df[complete.cases(df), ]"
   ]
  },
  {
   "cell_type": "code",
   "execution_count": 5,
   "metadata": {},
   "outputs": [
    {
     "ename": "ERROR",
     "evalue": "Error in `*tmp*`$jobClass: object of type 'closure' is not subsettable\n",
     "execution_count": 5,
     "output_type": "error",
     "traceback": [
      "Error in `*tmp*`$jobClass: object of type 'closure' is not subsettable\nTraceback:\n"
     ]
    }
   ],
   "source": [
    "levels(df$jobClass) <- c(\"whiteCollar\", \"blueCollar\", \"whiteCollar\", \"blueCollar\", \"whiteCollar\", \"Other\", \"Mixed\", \"Mixed\", \"Other\", \"blueCollar\", \"Other\", \"Other\")"
   ]
  },
  {
   "cell_type": "code",
   "execution_count": 6,
   "metadata": {},
   "outputs": [
    {
     "ename": "ERROR",
     "evalue": "Error in `*tmp*`$lastMonthContact: object of type 'closure' is not subsettable\n",
     "execution_count": 6,
     "output_type": "error",
     "traceback": [
      "Error in `*tmp*`$lastMonthContact: object of type 'closure' is not subsettable\nTraceback:\n"
     ]
    }
   ],
   "source": [
    "levels(df$lastMonthContact) <- c(\"Spring\", \"Summer\", \"Winter\", \"Winter\", \"Winter\", \"Summer\", \"Summer\", \"Spring\", \"Spring\", \"Fall\", \"Fall\", \"Fall\")"
   ]
  },
  {
   "cell_type": "code",
   "execution_count": 7,
   "metadata": {},
   "outputs": [
    {
     "ename": "ERROR",
     "evalue": "Error in `*tmp*`$creditDefault: object of type 'closure' is not subsettable\n",
     "execution_count": 7,
     "output_type": "error",
     "traceback": [
      "Error in `*tmp*`$creditDefault: object of type 'closure' is not subsettable\nTraceback:\n"
     ]
    }
   ],
   "source": [
    "levels(df$creditDefault) <- c(\"1\", \"0\")\n",
    "df$creditDefault <- as.numeric(df$creditDefault)"
   ]
  },
  {
   "cell_type": "code",
   "execution_count": 8,
   "metadata": {},
   "outputs": [
    {
     "ename": "ERROR",
     "evalue": "Error in `*tmp*`$educationLevel: object of type 'closure' is not subsettable\n",
     "execution_count": 8,
     "output_type": "error",
     "traceback": [
      "Error in `*tmp*`$educationLevel: object of type 'closure' is not subsettable\nTraceback:\n"
     ]
    }
   ],
   "source": [
    "levels(df$educationLevel) <- c(\"1\", \"2\", \"3\", \"1\")\n",
    "df$educationLevel <- as.numeric(df$educationLevel)"
   ]
  },
  {
   "cell_type": "code",
   "execution_count": 9,
   "metadata": {},
   "outputs": [
    {
     "ename": "ERROR",
     "evalue": "Error in df$target: object of type 'closure' is not subsettable\n",
     "execution_count": 9,
     "output_type": "error",
     "traceback": [
      "Error in df$target: object of type 'closure' is not subsettable\nTraceback:\n",
      "1. createDataPartition(df$target, p = 0.7, list = FALSE, times = 1)"
     ]
    }
   ],
   "source": [
    "splitIndex <- createDataPartition(df$target, p = .70, list = FALSE, times = 1)\n",
    "train <- df[ splitIndex,]\n",
    "test <- df[-splitIndex,]\n",
    "\n",
    "train1 <- train[train$target == \"yes\",]\n",
    "train0 <- train[train$target == \"no\",]\n",
    "\n",
    "n0 = nrow(train0)\n",
    "n1 = nrow(train1)\n",
    "train00 <- train0[sample(1:n0, n1),]\n",
    "train_under = rbind(train00, train1)"
   ]
  },
  {
   "cell_type": "code",
   "execution_count": 10,
   "metadata": {},
   "outputs": [
    {
     "ename": "ERROR",
     "evalue": "Error in df$target: object of type 'closure' is not subsettable\n",
     "execution_count": 10,
     "output_type": "error",
     "traceback": [
      "Error in df$target: object of type 'closure' is not subsettable\nTraceback:\n",
      "1. createDataPartition(df$target, p = 0.7, list = FALSE, times = 1)"
     ]
    }
   ],
   "source": [
    "splitIndex <- createDataPartition(df$target, p = .70, list = FALSE, times = 1)\n",
    "train <- df[ splitIndex,]\n",
    "test <- df[-splitIndex,]\n",
    "\n",
    "train1 <- train[train$target == \"yes\",]\n",
    "train0 <- train[train$target == \"no\",]\n",
    "\n",
    "n0 = nrow(train0)\n",
    "n1 = nrow(train1)\n",
    "train11 <- train1[sample(1:n1, n0, replace = TRUE),]\n",
    "train_over = rbind(train11,train0)"
   ]
  },
  {
   "cell_type": "code",
   "execution_count": 11,
   "metadata": {},
   "outputs": [
    {
     "ename": "ERROR",
     "evalue": "Error in \"gwaa.data\" %in% class(data): object 'train_under' not found\n",
     "execution_count": 11,
     "output_type": "error",
     "traceback": [
      "Error in \"gwaa.data\" %in% class(data): object 'train_under' not found\nTraceback:\n",
      "1. ranger(target ~ ., data = train_under)",
      "2. \"gwaa.data\" %in% class(data)"
     ]
    }
   ],
   "source": [
    "set.seed(2018)\n",
    "model_under = ranger(target~., data = train_under)\n",
    "pred_under = predict(model_under, data = test)$predictions\n",
    "cm_under = confusionMatrix(pred_under, test$target, positive=\"yes\")\n",
    "cm_under\n",
    "prop.table(table(train_under$target))"
   ]
  },
  {
   "cell_type": "code",
   "execution_count": 12,
   "metadata": {},
   "outputs": [
    {
     "ename": "ERROR",
     "evalue": "Error in is.data.frame(data): object 'train_under' not found\n",
     "execution_count": 12,
     "output_type": "error",
     "traceback": [
      "Error in is.data.frame(data): object 'train_under' not found\nTraceback:\n",
      "1. rpart(target ~ ., data = train_under, method = \"class\")",
      "2. eval.parent(temp)",
      "3. eval(expr, p)",
      "4. eval(expr, p)",
      "5. stats::model.frame(formula = target ~ ., data = train_under, \n .     na.action = function (x) \n .     {\n .         Terms <- attr(x, \"terms\")\n .         if (!is.null(Terms)) \n .             yvar <- attr(Terms, \"response\")\n .         else yvar <- 0L\n .         if (yvar == 0L) {\n .             xmiss <- is.na(x)\n .             keep <- (xmiss %*% rep(1, ncol(xmiss))) < ncol(xmiss)\n .         }\n .         else {\n .             xmiss <- is.na(x[-yvar])\n .             ymiss <- is.na(x[[yvar]])\n .             keep <- if (is.matrix(ymiss)) \n .                 ((xmiss %*% rep(1, ncol(xmiss))) < ncol(xmiss)) & \n .                   ((ymiss %*% rep(1, ncol(ymiss))) == 0)\n .             else ((xmiss %*% rep(1, ncol(xmiss))) < ncol(xmiss)) & \n .                 !ymiss\n .         }\n .         if (all(keep)) \n .             x\n .         else {\n .             temp <- seq(keep)[!keep]\n .             names(temp) <- row.names(x)[!keep]\n .             class(temp) <- c(\"na.rpart\", \"omit\")\n .             structure(x[keep, , drop = FALSE], na.action = temp)\n .         }\n .     })",
      "6. model.frame.default(formula = target ~ ., data = train_under, \n .     na.action = function (x) \n .     {\n .         Terms <- attr(x, \"terms\")\n .         if (!is.null(Terms)) \n .             yvar <- attr(Terms, \"response\")\n .         else yvar <- 0L\n .         if (yvar == 0L) {\n .             xmiss <- is.na(x)\n .             keep <- (xmiss %*% rep(1, ncol(xmiss))) < ncol(xmiss)\n .         }\n .         else {\n .             xmiss <- is.na(x[-yvar])\n .             ymiss <- is.na(x[[yvar]])\n .             keep <- if (is.matrix(ymiss)) \n .                 ((xmiss %*% rep(1, ncol(xmiss))) < ncol(xmiss)) & \n .                   ((ymiss %*% rep(1, ncol(ymiss))) == 0)\n .             else ((xmiss %*% rep(1, ncol(xmiss))) < ncol(xmiss)) & \n .                 !ymiss\n .         }\n .         if (all(keep)) \n .             x\n .         else {\n .             temp <- seq(keep)[!keep]\n .             names(temp) <- row.names(x)[!keep]\n .             class(temp) <- c(\"na.rpart\", \"omit\")\n .             structure(x[keep, , drop = FALSE], na.action = temp)\n .         }\n .     })",
      "7. is.data.frame(data)"
     ]
    }
   ],
   "source": [
    "set.seed(2018)\n",
    "mytree <- rpart(target ~ ., data = train_under, method = \"class\")\n",
    "pred_under <- predict(mytree, test, type = \"class\")\n",
    "fancyRpartPlot(mytree)\n",
    "cm = confusionMatrix(data = pred_under, reference = test$target, positive = \"yes\")\n",
    "cm"
   ]
  },
  {
   "cell_type": "code",
   "execution_count": 13,
   "metadata": {},
   "outputs": [
    {
     "ename": "ERROR",
     "evalue": "Error in eval(expr, p): object 'train_under' not found\n",
     "execution_count": 13,
     "output_type": "error",
     "traceback": [
      "Error in eval(expr, p): object 'train_under' not found\nTraceback:\n",
      "1. train(target ~ ., train_under, method = \"glmnet\")",
      "2. train.formula(target ~ ., train_under, method = \"glmnet\")",
      "3. eval.parent(m$data)",
      "4. eval(expr, p)",
      "5. eval(expr, p)"
     ]
    }
   ],
   "source": [
    "set.seed(2018)\n",
    "glmdef = train(target~., train_under, method = \"glmnet\")\n",
    "max(glmdef$results$Accuracy)"
   ]
  },
  {
   "cell_type": "code",
   "execution_count": 14,
   "metadata": {},
   "outputs": [
    {
     "ename": "ERROR",
     "evalue": "Error in eval(expr, p): object 'train_under' not found\n",
     "execution_count": 14,
     "output_type": "error",
     "traceback": [
      "Error in eval(expr, p): object 'train_under' not found\nTraceback:\n",
      "1. train(target ~ ., train_under, method = \"glmnet\", tuneGrid = myGridglm, \n .     trControl = myControl)",
      "2. train.formula(target ~ ., train_under, method = \"glmnet\", tuneGrid = myGridglm, \n .     trControl = myControl)",
      "3. eval.parent(m$data)",
      "4. eval(expr, p)",
      "5. eval(expr, p)"
     ]
    }
   ],
   "source": [
    "set.seed(2018)\n",
    "myGridglm = expand.grid(alpha = 0:1, lambda = seq(0.0001, 0.1, length = 10))\n",
    "myControl = trainControl(method = \"cv\", number = 7)\n",
    "glmtuned = train(target~., train_under, method =\"glmnet\",tuneGrid = myGridglm, trControl = myControl)\n",
    "max(glmtuned$results$Accuracy)"
   ]
  },
  {
   "cell_type": "code",
   "execution_count": 15,
   "metadata": {},
   "outputs": [
    {
     "ename": "ERROR",
     "evalue": "Error in \"gwaa.data\" %in% class(data): object 'train_over' not found\n",
     "execution_count": 15,
     "output_type": "error",
     "traceback": [
      "Error in \"gwaa.data\" %in% class(data): object 'train_over' not found\nTraceback:\n",
      "1. ranger(target ~ ., data = train_over)",
      "2. \"gwaa.data\" %in% class(data)"
     ]
    }
   ],
   "source": [
    "set.seed(2018)\n",
    "model_over = ranger(target~., data = train_over)\n",
    "pred_over = predict(model_over, data = test)$predictions\n",
    "cm_over = confusionMatrix(pred_over, test$target, positive=\"yes\")\n",
    "cm_over\n",
    "prop.table(table(train_over$target))"
   ]
  },
  {
   "cell_type": "code",
   "execution_count": 16,
   "metadata": {},
   "outputs": [
    {
     "ename": "ERROR",
     "evalue": "Error in is.data.frame(data): object 'train_over' not found\n",
     "execution_count": 16,
     "output_type": "error",
     "traceback": [
      "Error in is.data.frame(data): object 'train_over' not found\nTraceback:\n",
      "1. rpart(target ~ ., data = train_over, method = \"class\")",
      "2. eval.parent(temp)",
      "3. eval(expr, p)",
      "4. eval(expr, p)",
      "5. stats::model.frame(formula = target ~ ., data = train_over, na.action = function (x) \n . {\n .     Terms <- attr(x, \"terms\")\n .     if (!is.null(Terms)) \n .         yvar <- attr(Terms, \"response\")\n .     else yvar <- 0L\n .     if (yvar == 0L) {\n .         xmiss <- is.na(x)\n .         keep <- (xmiss %*% rep(1, ncol(xmiss))) < ncol(xmiss)\n .     }\n .     else {\n .         xmiss <- is.na(x[-yvar])\n .         ymiss <- is.na(x[[yvar]])\n .         keep <- if (is.matrix(ymiss)) \n .             ((xmiss %*% rep(1, ncol(xmiss))) < ncol(xmiss)) & \n .                 ((ymiss %*% rep(1, ncol(ymiss))) == 0)\n .         else ((xmiss %*% rep(1, ncol(xmiss))) < ncol(xmiss)) & \n .             !ymiss\n .     }\n .     if (all(keep)) \n .         x\n .     else {\n .         temp <- seq(keep)[!keep]\n .         names(temp) <- row.names(x)[!keep]\n .         class(temp) <- c(\"na.rpart\", \"omit\")\n .         structure(x[keep, , drop = FALSE], na.action = temp)\n .     }\n . })",
      "6. model.frame.default(formula = target ~ ., data = train_over, \n .     na.action = function (x) \n .     {\n .         Terms <- attr(x, \"terms\")\n .         if (!is.null(Terms)) \n .             yvar <- attr(Terms, \"response\")\n .         else yvar <- 0L\n .         if (yvar == 0L) {\n .             xmiss <- is.na(x)\n .             keep <- (xmiss %*% rep(1, ncol(xmiss))) < ncol(xmiss)\n .         }\n .         else {\n .             xmiss <- is.na(x[-yvar])\n .             ymiss <- is.na(x[[yvar]])\n .             keep <- if (is.matrix(ymiss)) \n .                 ((xmiss %*% rep(1, ncol(xmiss))) < ncol(xmiss)) & \n .                   ((ymiss %*% rep(1, ncol(ymiss))) == 0)\n .             else ((xmiss %*% rep(1, ncol(xmiss))) < ncol(xmiss)) & \n .                 !ymiss\n .         }\n .         if (all(keep)) \n .             x\n .         else {\n .             temp <- seq(keep)[!keep]\n .             names(temp) <- row.names(x)[!keep]\n .             class(temp) <- c(\"na.rpart\", \"omit\")\n .             structure(x[keep, , drop = FALSE], na.action = temp)\n .         }\n .     })",
      "7. is.data.frame(data)"
     ]
    }
   ],
   "source": [
    "set.seed(2018)\n",
    "mytree <- rpart(target ~ ., data = train_over, method = \"class\")\n",
    "pred_over <- predict(mytree, test, type = \"class\")\n",
    "fancyRpartPlot(mytree)\n",
    "cm = confusionMatrix(data = pred_over, reference = test$target, positive = \"yes\")\n",
    "cm"
   ]
  },
  {
   "cell_type": "code",
   "execution_count": 17,
   "metadata": {},
   "outputs": [
    {
     "ename": "ERROR",
     "evalue": "Error in eval(expr, p): object 'train_over' not found\n",
     "execution_count": 17,
     "output_type": "error",
     "traceback": [
      "Error in eval(expr, p): object 'train_over' not found\nTraceback:\n",
      "1. train(target ~ ., train_over, method = \"glmnet\")",
      "2. train.formula(target ~ ., train_over, method = \"glmnet\")",
      "3. eval.parent(m$data)",
      "4. eval(expr, p)",
      "5. eval(expr, p)"
     ]
    }
   ],
   "source": [
    "set.seed(2018)\n",
    "glmdef = train(target~., train_over, method = \"glmnet\")\n",
    "max(glmdef$results$Accuracy)"
   ]
  },
  {
   "cell_type": "code",
   "execution_count": 18,
   "metadata": {},
   "outputs": [
    {
     "ename": "ERROR",
     "evalue": "Error in eval(expr, p): object 'train_over' not found\n",
     "execution_count": 18,
     "output_type": "error",
     "traceback": [
      "Error in eval(expr, p): object 'train_over' not found\nTraceback:\n",
      "1. train(target ~ ., train_over, method = \"glmnet\", tuneGrid = myGridglm, \n .     trControl = myControl)",
      "2. train.formula(target ~ ., train_over, method = \"glmnet\", tuneGrid = myGridglm, \n .     trControl = myControl)",
      "3. eval.parent(m$data)",
      "4. eval(expr, p)",
      "5. eval(expr, p)"
     ]
    }
   ],
   "source": [
    "set.seed(2018)\n",
    "myGridglm = expand.grid(alpha = 0:1, lambda = seq(0.0001, 0.1, length = 10))\n",
    "myControl = trainControl(method = \"cv\", number = 7)\n",
    "glmtuned = train(target~., train_over, method =\"glmnet\",tuneGrid = myGridglm, trControl = myControl)\n",
    "max(glmtuned$results$Accuracy)"
   ]
  },
  {
   "cell_type": "code",
   "execution_count": 19,
   "metadata": {},
   "outputs": [
    {
     "ename": "ERROR",
     "evalue": "Error in eval(expr, p): object 'train_under' not found\n",
     "execution_count": 19,
     "output_type": "error",
     "traceback": [
      "Error in eval(expr, p): object 'train_under' not found\nTraceback:\n",
      "1. train(target ~ ., data = train_under, method = \"ranger\", trControl = trainControl(method = \"cv\", \n .     number = 7, verboseIter = TRUE), tuneGrid = myGrid)",
      "2. train.formula(target ~ ., data = train_under, method = \"ranger\", \n .     trControl = trainControl(method = \"cv\", number = 7, verboseIter = TRUE), \n .     tuneGrid = myGrid)",
      "3. eval.parent(m$data)",
      "4. eval(expr, p)",
      "5. eval(expr, p)"
     ]
    }
   ],
   "source": [
    "set.seed(2018)\n",
    "myGrid <- expand.grid(mtry = 7, splitrule = c(\"gini\",\"extratrees\"), min.node.size = c(1:5))\n",
    "model <- train(target ~.,data = train_under, method = \"ranger\", \n",
    "               trControl = trainControl(method =\"cv\", number = 7, verboseIter = TRUE),\n",
    "               tuneGrid = myGrid)\n",
    "model"
   ]
  },
  {
   "cell_type": "code",
   "execution_count": null,
   "metadata": {},
   "outputs": [],
   "source": []
  }
 ],
 "metadata": {
  "kernelspec": {
   "display_name": "R",
   "language": "R",
   "name": "ir"
  },
  "language_info": {
   "codemirror_mode": "r",
   "file_extension": ".r",
   "mimetype": "text/x-r-source",
   "name": "R",
   "pygments_lexer": "r",
   "version": "3.5.1"
  }
 },
 "nbformat": 4,
 "nbformat_minor": 2
}
