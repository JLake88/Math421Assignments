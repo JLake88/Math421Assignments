{
 "cells": [
  {
   "cell_type": "code",
   "execution_count": null,
   "metadata": {},
   "outputs": [],
   "source": [
    "knitr::opts_chunk$set(echo = TRUE)\n",
    "\n",
    "Titanic = read.csv(\"titanic.csv\")\n",
    "Titanic$Survived = factor(Titanic$Survived)\n",
    "Titanic$Pclass = factor(Titanic$Pclass)\n",
    "sum(is.na(Titanic))\n",
    "T_Update = subset(Titanic, select = -c(Name,SibSp,Parch,Ticket,Cabin))\n",
    "T_Update_2 = T_Update[complete.cases(T_Update), ]\n",
    "\n",
    "Mage <- mean(T_Update_2$Age, na.rm = TRUE)\n",
    "T_Update_2[is.na(T_Update_2$Age),]$Age == Mage\n",
    "Mfare <- mean(T_Update_2$Fare, na.rm = TRUE)\n",
    "T_Update_2[is.na(T_Update_2$Fare),]$Fare == Mfare\n",
    "\n",
    "mean(T_Update_2$Age)\n",
    "mean(T_Update_2[T_Update_2$Sex == \"female\",]$Age)\n",
    "mean(T_Update_2[T_Update_2$Sex == \"female\" & T_Update_2$Age >= \"13\" & T_Update_2$Age < \"20\",]$Fare)\n",
    "mean(T_Update_2[T_Update_2$Sex == \"female\" & T_Update_2$Age >= \"13\" & T_Update_2$Age < \"20\" & T_Update_2$Survived == \"1\" & T_Update_2$Pclass == \"1\",]$Fare)\n",
    "mean(T_Update_2[T_Update_2$Sex == \"female\" & T_Update_2$Age >= \"13\" & T_Update_2$Age < \"20\" & T_Update_2$Survived == \"1\" & T_Update_2$Pclass == \"2\",]$Fare)\n",
    "mean(T_Update_2[T_Update_2$Sex == \"female\" & T_Update_2$Age >= \"13\" & T_Update_2$Age < \"20\" & T_Update_2$Survived == \"1\" & T_Update_2$Pclass == \"3\",]$Fare)\n",
    "\n",
    "median(T_Update_2[T_Update_2$Pclass == \"1\",]$Fare)\n",
    "median(T_Update_2[T_Update_2$Pclass != \"1\" & T_Update_2$Sex == \"female\",]$Fare)\n",
    "median(T_Update_2[T_Update_2$Pclass != \"3\" & T_Update_2$Sex == \"female\" & T_Update_2$Survived == \"1\",]$Age)\n",
    "\n",
    "Mfare = mean(T_Update_2$Fare)\n",
    "T_Update_2a = T_Update_2[T_Update_2$Fare>Mfare,]\n",
    "prop.table(table(T_Update_2a$Survived))\n",
    "\n",
    "T_Update_2$sfare <- (T_Update_2$Fare - Mfare)/sd(T_Update_2$Fare)\n",
    "T_Update_2$cfare [T_Update_2$Fare < Mfare]<- \"cheap\"\n",
    "T_Update_2$cfare [T_Update_2$Fare > Mfare]<- \"expensive\"\n",
    "T_Update_2$cage [T_Update_2$Age >= 0 & T_Update_2$Age < 10] <- \"0\"\n",
    "T_Update_2$cage [T_Update_2$Age >= 10 & T_Update_2$Age < 20] <- \"1\"\n",
    "T_Update_2$cage [T_Update_2$Age >= 20 & T_Update_2$Age < 30] <- \"2\"\n",
    "T_Update_2$cage [T_Update_2$Age >= 30 & T_Update_2$Age < 40] <- \"3\"\n",
    "T_Update_2$cage [T_Update_2$Age >= 40 & T_Update_2$Age < 50] <- \"4\"\n",
    "T_Update_2$cage [T_Update_2$Age >= 50 & T_Update_2$Age < 60] <- \"5\"\n",
    "T_Update_2$cage [T_Update_2$Age >= 60 & T_Update_2$Age < 70] <- \"6\"\n",
    "T_Update_2$cage [T_Update_2$Age >= 70 & T_Update_2$Age < 80] <- \"7\"\n",
    "T_Update_2$cage [T_Update_2$Age >= 80 & T_Update_2$Age < 90] <- \"8\"\n",
    "T_Update_2$cage [T_Update_2$Age >= 90 & T_Update_2$Age < 100] <- \"9\"\n",
    "\n",
    "library(ggplot2)\n",
    "youngPass <- subset(T_Update_2, Age < Mage)\n",
    "ggplot(youngPass, aes(Survived)) + geom_bar(aes(fill = youngPass$Sex))\n",
    "lowFare <- subset(T_Update_2, Fare > Mfare & Survived == \"1\")\n",
    "ggplot(lowFare, aes(Age)) + geom_density()\n",
    "ggplot(T_Update_2, aes(Embarked == \"S\" | Embarked ==\"Q\")) + geom_density()\n",
    "ggplot(T_Update_2, aes(cage)) + geom_bar(aes(fill = T_Update_2$Survived)) + facet_grid(~ Pclass)"
   ]
  }
 ],
 "metadata": {
  "kernelspec": {
   "display_name": "R",
   "language": "R",
   "name": "ir"
  },
  "language_info": {
   "codemirror_mode": "r",
   "file_extension": ".r",
   "mimetype": "text/x-r-source",
   "name": "R",
   "pygments_lexer": "r",
   "version": "3.5.1"
  }
 },
 "nbformat": 4,
 "nbformat_minor": 2
}
