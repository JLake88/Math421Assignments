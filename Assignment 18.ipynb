{
 "cells": [
  {
   "cell_type": "code",
   "execution_count": 1,
   "metadata": {},
   "outputs": [
    {
     "name": "stderr",
     "output_type": "stream",
     "text": [
      "Loading required package: lattice\n",
      "Loading required package: ggplot2\n"
     ]
    }
   ],
   "source": [
    "knitr::opts_chunk$set(echo = TRUE)\n",
    "library(caret)\n",
    "library(ranger)"
   ]
  },
  {
   "cell_type": "code",
   "execution_count": 2,
   "metadata": {},
   "outputs": [
    {
     "name": "stderr",
     "output_type": "stream",
     "text": [
      "Warning message in file(file, \"rt\"):\n",
      "\"cannot open file 'hmeq.csv': No such file or directory\""
     ]
    },
    {
     "ename": "ERROR",
     "evalue": "Error in file(file, \"rt\"): cannot open the connection\n",
     "execution_count": 2,
     "output_type": "error",
     "traceback": [
      "Error in file(file, \"rt\"): cannot open the connection\nTraceback:\n",
      "1. read.csv(\"hmeq.csv\")",
      "2. read.table(file = file, header = header, sep = sep, quote = quote, \n .     dec = dec, fill = fill, comment.char = comment.char, ...)",
      "3. file(file, \"rt\")"
     ]
    }
   ],
   "source": [
    "df <- read.csv(\"hmeq.csv\")\n",
    "QuickClean = function(x,i)\n",
    "{\n",
    "  if(i==0)\n",
    "  {\n",
    "    x = x[complete.cases(x), ]\n",
    "    return(x)\n",
    "  }\n",
    "  if(i==1)\n",
    "  {\n",
    "    checkcol = function(y)\n",
    "    {\n",
    "      if(is.numeric(y) == TRUE)\n",
    "      {\n",
    "        y[is.na(y)] = mean(y, na.rm = TRUE)\n",
    "      }\n",
    "      else\n",
    "      {\n",
    "        levels=unique(y)\n",
    "        y[is.na(y)]=levels[which.max(tabulate(match(y, x = levels)))]\n",
    "      }\n",
    "      return(y)\n",
    "    }\n",
    "    x = lapply(x,checkcol)\n",
    "    return(data.frame(x))\n",
    "  }\n",
    "}\n",
    "df = QuickClean(df, 1)\n",
    "df$BAD = as.factor(df$BAD)\n",
    "names(df)[1] = 'target'"
   ]
  },
  {
   "cell_type": "code",
   "execution_count": 3,
   "metadata": {},
   "outputs": [
    {
     "ename": "ERROR",
     "evalue": "Error in df$target: object of type 'closure' is not subsettable\n",
     "execution_count": 3,
     "output_type": "error",
     "traceback": [
      "Error in df$target: object of type 'closure' is not subsettable\nTraceback:\n",
      "1. createDataPartition(df$target, p = 0.7, list = FALSE, times = 1)"
     ]
    }
   ],
   "source": [
    "splitIndex <- createDataPartition(df$target, p = .70, list = FALSE, times = 1)\n",
    "train <- df[ splitIndex,]\n",
    "test <- df[-splitIndex,]\n",
    "\n",
    "model = ranger(target ~., data = train)\n",
    "pred = predict(model, data = test)$predictions\n",
    "cm = confusionMatrix(pred, test$target, positive=\"1\")\n",
    "\n",
    "prop.table(table(df$target))"
   ]
  },
  {
   "cell_type": "code",
   "execution_count": 4,
   "metadata": {},
   "outputs": [
    {
     "ename": "ERROR",
     "evalue": "Error in train$target: object of type 'closure' is not subsettable\n",
     "execution_count": 4,
     "output_type": "error",
     "traceback": [
      "Error in train$target: object of type 'closure' is not subsettable\nTraceback:\n"
     ]
    }
   ],
   "source": [
    "train1 <- train[train$target == \"1\",]\n",
    "train0 <- train[train$target == \"0\",]\n",
    "\n",
    "n0 = nrow(train0)\n",
    "n1 = nrow(train1)\n",
    "train00 <- train0[sample(1:n0, n1),]\n",
    "\n",
    "train_under = rbind(train00, train1)\n",
    "model_under = ranger(target~., data = train_under)\n",
    "pred_under = predict(model_under, data = test)$predictions\n",
    "cm_under = confusionMatrix(pred_under, test$target, positive=\"1\")\n",
    "\n",
    "cm_under\n",
    "prop.table(table(train_under$target))"
   ]
  },
  {
   "cell_type": "code",
   "execution_count": 5,
   "metadata": {},
   "outputs": [
    {
     "ename": "ERROR",
     "evalue": "Error in train$target: object of type 'closure' is not subsettable\n",
     "execution_count": 5,
     "output_type": "error",
     "traceback": [
      "Error in train$target: object of type 'closure' is not subsettable\nTraceback:\n"
     ]
    }
   ],
   "source": [
    "train1 <- train[train$target == \"1\",]\n",
    "train0 <- train[train$target == \"0\",]\n",
    "\n",
    "n0 = nrow(train0)\n",
    "n1 = nrow(train1)\n",
    "train11 <- train1[sample(1:n1, n0, replace = TRUE),]\n",
    "\n",
    "train_over = rbind(train11, train0)\n",
    "model_over = ranger(target~., data = train_over)\n",
    "pred_over = predict(model_over, data = test)$predictions\n",
    "cm_over = confusionMatrix(pred_over, test$target, positive=\"1\")\n",
    "\n",
    "cm_over\n",
    "prop.table(table(train_over$target))"
   ]
  },
  {
   "cell_type": "code",
   "execution_count": 6,
   "metadata": {},
   "outputs": [],
   "source": [
    "Quick_bal = function(df, m){\n",
    "  if(m == 1) {\n",
    "    splitIndex <- createDataPartition(df$target, p = .70, list = FALSE, times = 1)\n",
    "    train <- df[ splitIndex,]\n",
    "    test <- df[-splitIndex,]\n",
    "    \n",
    "    train1 <- train[train$target == \"1\",]\n",
    "    train0 <- train[train$target == \"0\",]\n",
    "\n",
    "    n0 = nrow(train0)\n",
    "    n1 = nrow(train1)\n",
    "    bal_under <- train0[sample(1:n0, n1),]\n",
    "  }\n",
    "  else if(m == 2) {\n",
    "    splitIndex <- createDataPartition(df$target, p = .70, list = FALSE, times = 1)\n",
    "    train <- df[ splitIndex,]\n",
    "    test <- df[-splitIndex,]\n",
    "    \n",
    "    train1 <- train[train$target == \"1\",]\n",
    "    train0 <- train[train$target == \"0\",]\n",
    "\n",
    "    n0 = nrow(train0)\n",
    "    n1 = nrow(train1)\n",
    "    bal_over <- train1[sample(1:n1, n0, replace = TRUE),]\n",
    "  }\n",
    "  else print(\"Please choose 1 for undersampling or 2 for oversampling\")\n",
    "}"
   ]
  },
  {
   "cell_type": "code",
   "execution_count": 7,
   "metadata": {},
   "outputs": [],
   "source": [
    "Quick_model_bal = function(df){\n",
    "  splitIndex <- createDataPartition(df$target, p = .70, list = FALSE, times = 1)\n",
    "  train <- df[ splitIndex,]\n",
    "  test <- df[-splitIndex,]\n",
    "  \n",
    "  train1 <- train[train$target == \"1\",]\n",
    "  train0 <- train[train$target == \"0\",]\n",
    "  \n",
    "  nu0 = nrow(train0)\n",
    "  nu1 = nrow(train1)\n",
    "  train00 <- train0[sample(1:nu0, nu1),]\n",
    "  train_under = rbind(train00, train1)\n",
    "  model_under = ranger(target~., data = train_under)\n",
    "  pred_under = predict(model_under, data = test)$predictions\n",
    "  cm_under = confusionMatrix(pred_under, test$target, positive=\"1\")\n",
    "  \n",
    "  no0 = nrow(train0)\n",
    "  no1 = nrow(train1)\n",
    "  train11 <- train1[sample(1:no1, no0, replace = TRUE),]\n",
    "  train_over = rbind(train11, train0)\n",
    "  model_over = ranger(target~., data = train_over)\n",
    "  pred_over = predict(model_over, data = test)$predictions\n",
    "  cm_over = confusionMatrix(pred_over, test$target, positive=\"1\")\n",
    "  \n",
    "  print(\"First cm is for undersampling, second is for oversampling\")\n",
    "  print(cm_under)\n",
    "  print(cm_over)\n",
    "}"
   ]
  },
  {
   "cell_type": "code",
   "execution_count": null,
   "metadata": {},
   "outputs": [],
   "source": []
  }
 ],
 "metadata": {
  "kernelspec": {
   "display_name": "R",
   "language": "R",
   "name": "ir"
  },
  "language_info": {
   "codemirror_mode": "r",
   "file_extension": ".r",
   "mimetype": "text/x-r-source",
   "name": "R",
   "pygments_lexer": "r",
   "version": "3.5.1"
  }
 },
 "nbformat": 4,
 "nbformat_minor": 2
}
